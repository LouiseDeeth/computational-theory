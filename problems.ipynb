{
 "cells": [
  {
   "cell_type": "markdown",
   "id": "1bc01fcd",
   "metadata": {},
   "source": [
    "# Computational Theory Problems"
   ]
  },
  {
   "cell_type": "markdown",
   "id": "f715c334",
   "metadata": {},
   "source": [
    "## Problem 1: Binary Words and Operations"
   ]
  },
  {
   "cell_type": "code",
   "execution_count": 63,
   "id": "cb7d3ebd",
   "metadata": {},
   "outputs": [],
   "source": [
    "# import necessary libraries\n",
    "import numpy as np"
   ]
  },
  {
   "cell_type": "markdown",
   "id": "a2890833",
   "metadata": {},
   "source": [
    "### Function 1: Parity(x, y, z)\n",
    "\n",
    "The Parity() function implements the bitwise XOR of three 32-bit unsigned integers.\n",
    "\n",
    "This operation outputs a 1 for each bit position where an odd number of bits is 1.\n",
    "\n",
    "It is used in the SHA-1 hashing algorithm to combine three message words into a new value.\n",
    "\n",
    "Formula: \n",
    "- **Parity(x, y, z) = x ⊕ y ⊕ z**"
   ]
  },
  {
   "cell_type": "code",
   "execution_count": 64,
   "id": "2f3fbee4",
   "metadata": {},
   "outputs": [],
   "source": [
    "def Parity(x, y, z):\n",
    "    \"\"\"\n",
    "    Parity(x, y, z) \n",
    "        \n",
    "    Performs bitwise XOR operation on three 32-bit unsigned integers. \n",
    "    Bitwise XOR is a way to compare 2 numbers bit by bit: if the bits \n",
    "    are the same, the output is 0; if they are different, the output is 1.    \n",
    "    This function is used in the SHA-1 hash algorithm. \n",
    "\n",
    "    Parameters\n",
    "    x, y, z : int\n",
    "        Three 32-bit unsigned integers.\n",
    "\n",
    "    Returns\n",
    "    np.uint32\n",
    "        The bitwise XOR of x, y and z (Three 32-bit unsigned integers).\n",
    "    \"\"\"\n",
    "\n",
    "    # Convert all inputs to 32-bit unsigned integers.\n",
    "    # This is important for correct bitwise operations and \n",
    "    # ensures that all operations behave like they would in hardware\n",
    "    x = np.uint32(x)\n",
    "    y = np.uint32(y)\n",
    "    z = np.uint32(z)\n",
    "\n",
    "    # The symbol ∧ means bitwise XOR (exclusive OR) in python.\n",
    "    # np.uint32 ensures the result is a 32-bit unsigned integer \n",
    "    # because python handles integers as unlimited size by default.\n",
    "    # Without np.uint32, the result could be a larger integerthan intended.\n",
    "    # SHA-1 algorithm requires 32-bit unsigned integers for its operations.\n",
    "    \n",
    "    # Return the result of the bitwise XOR operation.\n",
    "    return np.uint32(x ^ y ^ z)"
   ]
  },
  {
   "cell_type": "markdown",
   "id": "e936119d",
   "metadata": {},
   "source": [
    "**Example tests:** \n",
    "Takes each hex number and converts them to binary and XORs them to give a new 32-bit result hex number which is then converted to decimal."
   ]
  },
  {
   "cell_type": "code",
   "execution_count": 65,
   "id": "d55e3dba",
   "metadata": {},
   "outputs": [
    {
     "name": "stdout",
     "output_type": "stream",
     "text": [
      "Parity(0x12345678, 0x9abcdef0, 0x0fedcba9) = Hex: 0x87654321 or Decimal: 2271560481\n",
      "Parity(0xffffffff, 0x00000000, 0x12345678) = Hex: 0xedcba987 or Decimal: 3989547399\n",
      "Parity(0x0, 0x0, 0x0) = Hex: 0x0 or Decimal: 0\n"
     ]
    }
   ],
   "source": [
    "print(\"Parity(0x12345678, 0x9abcdef0, 0x0fedcba9) = Hex:\", \n",
    "      hex(Parity(0x12345678, 0x9abcdef0, 0x0fedcba9)), \n",
    "      \"or Decimal:\", Parity(0x12345678, 0x9abcdef0, 0x0fedcba9))\n",
    "\n",
    "print(\n",
    "    \"Parity(0xffffffff, 0x00000000, 0x12345678) = \"\n",
    "    f\"Hex: {hex(Parity(0xffffffff, 0x00000000, 0x12345678))} \"\n",
    "    f\"or Decimal: {Parity(0xffffffff, 0x00000000, 0x12345678)}\")\n",
    "\n",
    "print(\"Parity(0x0, 0x0, 0x0) = Hex:\", \n",
    "      hex(Parity(0x0, 0x0, 0x0)), \n",
    "      \"or Decimal:\", Parity(0x0, 0x0, 0x0))"
   ]
  },
  {
   "cell_type": "markdown",
   "id": "a14e4c2f",
   "metadata": {},
   "source": [
    "### Function 2: Ch(x, y, z)\n",
    "\n",
    "The Choose function selects bits from y or z depending on x.\n",
    "\n",
    "It acts like a bitwise if-else:\n",
    "- If the bit in x is 1, use the bit from y\n",
    "- If the bit in x is 0, use the bit from z\n",
    "\n",
    "This operation is part of the SHA family of cryptographic hash functions and helps mix message bits in a non-linear way.\n",
    "\n",
    "Formula: \n",
    "- Secure Hash Standard: **Ch(x, y, z)=(x ∧ y) ⊕ (¬x∧z)**  \n",
    "- Python: **Ch(x, y, z) = (x & y) ⊕ ((~ x) & z)**"
   ]
  },
  {
   "cell_type": "code",
   "execution_count": 66,
   "id": "3d8b68b5",
   "metadata": {},
   "outputs": [],
   "source": [
    "def Ch(x, y, z):\n",
    "    \"\"\"\n",
    "    Ch(x, y, z)\n",
    "    \n",
    "    The Choose function from the Secure Hash Standard.\n",
    "\n",
    "    For each bit position:    \n",
    "        - If the bit in x is 1, use the bit from y\n",
    "        - If the bit in x is 0, use the bit from z\n",
    "\n",
    "    Parameters\n",
    "    x, y, z : int\n",
    "        Three 32-bit unsigned integers.     \n",
    "\n",
    "    Returns\n",
    "    np.uint32\n",
    "        The result of the Choose function as a 32-bit unsigned integer. \n",
    "    \"\"\"\n",
    "\n",
    "    # Convert all inputs to 32-bit unsigned integers.\n",
    "    # This is important for correct bitwise operations and \n",
    "    # ensures that all operations behave like they would in hardware\n",
    "    x = np.uint32(x)\n",
    "    y = np.uint32(y)\n",
    "    z = np.uint32(z)\n",
    "\n",
    "    # Symbols:\n",
    "    # &  bitwise AND \n",
    "    # ~ means bitwise NOT \n",
    "    # ^ means bitwise XOR (exclusive OR) \n",
    "\n",
    "    # np.uint32 ensures the result is a 32-bit unsigned integer \n",
    "    # because python handles integers as unlimited size by default.\n",
    "    # Without np.uint32, the result could be a larger integer than intended.\n",
    "    # SHA-1 algorithm requires 32-bit unsigned integers for its operations.\n",
    "    \n",
    "    # Return the result of the Choose function operation.\n",
    "    return np.uint32((x & y) ^ (~x & z))"
   ]
  },
  {
   "cell_type": "markdown",
   "id": "6238aa2e",
   "metadata": {},
   "source": [
    "**Example tests:** Looks at x \n",
    "\n",
    "- if the bit in x is 1, the result bit is copied from the corresponding bit in y \n",
    "    \n",
    "- if the bit in x is 0, the result bit is copied from the corresponding bit in z"
   ]
  },
  {
   "cell_type": "code",
   "execution_count": 67,
   "id": "6736bf1b",
   "metadata": {},
   "outputs": [
    {
     "name": "stdout",
     "output_type": "stream",
     "text": [
      "Ch(0xFFFFFFFF, 0x12345678, 0x9ABCDEF0) = Hex: 0x12345678 or Decimal: 305419896\n",
      "Ch(0x00000000, 0x12345678, 0x9ABCDEF0) = Hex: 0x9abcdef0 or Decimal: 2596069104\n",
      "Ch(0xF0F0F0F0, 0xAAAAAAAA, 0x55555555) = Hex: 0xa5a5a5a5 or Decimal: 2779096485\n"
     ]
    }
   ],
   "source": [
    "print(\"Ch(0xFFFFFFFF, 0x12345678, 0x9ABCDEF0) = Hex:\",\n",
    "      hex(Ch(0xFFFFFFFF, 0x12345678, 0x9ABCDEF0)),\n",
    "      \"or Decimal:\", Ch(0xFFFFFFFF, 0x12345678, 0x9ABCDEF0))\n",
    "\n",
    "print(\"Ch(0x00000000, 0x12345678, 0x9ABCDEF0) = Hex:\",\n",
    "      hex(Ch(0x00000000, 0x12345678, 0x9ABCDEF0)),\n",
    "      \"or Decimal:\", Ch(0x00000000, 0x12345678, 0x9ABCDEF0))\n",
    "\n",
    "print(\"Ch(0xF0F0F0F0, 0xAAAAAAAA, 0x55555555) = Hex:\",\n",
    "      hex(Ch(0xF0F0F0F0, 0xAAAAAAAA, 0x55555555)),\n",
    "      \"or Decimal:\", Ch(0xF0F0F0F0, 0xAAAAAAAA, 0x55555555))"
   ]
  },
  {
   "cell_type": "markdown",
   "id": "45660ddc",
   "metadata": {},
   "source": [
    "### Function 3: Maj(x, y, z)\n",
    "\n",
    "The Majority function returns the majority bit among x, y and z for each bit position.\n",
    "\n",
    "It acts like a bitwise voting system:\n",
    "- If at least two of the bits are 1, the result bit is 1.\n",
    "- Otherwise, the result bit is 0.\n",
    "\n",
    "This operation is part of the SHA family of cryptographic hash functions and helps ensure diffusion by combining bits from multiple variables.\n",
    "\n",
    "Formula: \n",
    "- Secure Hash Standard: **Maj(x, y, z)=(x ∧ y) ⊕ (x ∧ z) ⊕ (y ∧ z)** \n",
    "- Python: **Maj(x, y, z) = (x & y) ^ (x & z) ^ (y & z)**"
   ]
  },
  {
   "cell_type": "code",
   "execution_count": 68,
   "id": "50dd657f",
   "metadata": {},
   "outputs": [],
   "source": [
    "def Maj(x, y, z):\n",
    "    \"\"\"\n",
    "    Maj(x, y, z)\n",
    "    \n",
    "    The Majority function from the Secure Hash Standard.\n",
    "\n",
    "    For each bit position:    \n",
    "        - If the majority of the bits in x, y, and z are 1, the result is 1\n",
    "        - If the majority of the bits in x, y, and z are 0, the result is 0     \n",
    "        \n",
    "    Parameters\n",
    "    x, y, z : int\n",
    "\n",
    "        Three 32-bit unsigned integers.\n",
    "    Returns\n",
    "    np.uint32\n",
    "        The result of the Majority function as a 32-bit unsigned integer.\n",
    "    \"\"\"\n",
    "\n",
    "    # Convert all inputs to 32-bit unsigned integers.\n",
    "    # This is important for correct bitwise operations and ensures that \n",
    "    # all operations behave like they would in hardware\n",
    "    x = np.uint32(x)\n",
    "    y = np.uint32(y)\n",
    "    z = np.uint32(z)\n",
    "\n",
    "    # The symbol & means bitwise AND in python.\n",
    "    # The symbol | means bitwise OR in python.\n",
    "    # np.uint32 ensures the result is a 32-bit unsigned integer because \n",
    "    # python handles integers as unlimited size by default.\n",
    "    # Without np.uint32, the result could be a larger integer than intended.\n",
    "    # SHA-1 algorithm requires 32-bit unsigned integers for its operations.\n",
    "    # Return the result of the Majority function operation.\n",
    "    return np.uint32((x & y) | (x & z) | (y & z))"
   ]
  },
  {
   "cell_type": "markdown",
   "id": "c8bd74c6",
   "metadata": {},
   "source": [
    "**Example tests:**  Looks at x,y and z together for each bit position.\n",
    "\n",
    "- If at least two bits among x,y and z are 1 -> the result bit is 1\n",
    "- If fewer than two bits are 1 -> the result bit is 0\n",
    "\n",
    "This means the function returns the majority bit at each position. "
   ]
  },
  {
   "cell_type": "code",
   "execution_count": 69,
   "id": "c5b9f006",
   "metadata": {},
   "outputs": [
    {
     "name": "stdout",
     "output_type": "stream",
     "text": [
      "Maj(0xFFFFFFFF, 0x12345678, 0x9ABCDEF0) = Hex: 0x9abcdef8 or Decimal: 2596069112\n",
      "Maj(0x00000000, 0x12345678, 0x9ABCDEF0) = Hex: 0x12345670 or Decimal: 305419888\n",
      "Maj(0xF0F0F0F0, 0xAAAAAAAA, 0x55555555) = Hex: 0xf0f0f0f0 or Decimal: 4042322160\n"
     ]
    }
   ],
   "source": [
    "print(\"Maj(0xFFFFFFFF, 0x12345678, 0x9ABCDEF0) = Hex:\",\n",
    "      hex(Maj(0xFFFFFFFF, 0x12345678, 0x9ABCDEF0)),\n",
    "      \"or Decimal:\", Maj(0xFFFFFFFF, 0x12345678, 0x9ABCDEF0))\n",
    "\n",
    "print(\"Maj(0x00000000, 0x12345678, 0x9ABCDEF0) = Hex:\",\n",
    "      hex(Maj(0x00000000, 0x12345678, 0x9ABCDEF0)),\n",
    "      \"or Decimal:\", Maj(0x00000000, 0x12345678, 0x9ABCDEF0))\n",
    "\n",
    "print(\"Maj(0xF0F0F0F0, 0xAAAAAAAA, 0x55555555) = Hex:\",\n",
    "      hex(Maj(0xF0F0F0F0, 0xAAAAAAAA, 0x55555555)),\n",
    "      \"or Decimal:\", Maj(0xF0F0F0F0, 0xAAAAAAAA, 0x55555555))"
   ]
  },
  {
   "cell_type": "markdown",
   "id": "70b7953a",
   "metadata": {},
   "source": [
    "### Function 4: Sigma0(x) \n",
    "\n",
    "The Sigma0 function performs three bitwise right rotations on the input x by 2, 13 and 22 bits, and combines them using XOR.\n",
    "\n",
    "This helps mix the bits of x to increase diffusion in the SHA-256 hash algorithm. This means that a small change in the input produces a large, widespread change in the output. \n",
    "\n",
    "Formula: \n",
    "- Secure Hash Standard: **Σ₀(x) = ROTR²(x) ⊕ ROTR¹³(x) ⊕ ROTR²²(x)** \n",
    "- Python: **Sigma0(x) = ROTR(x, 2) ^ ROTR(x, 13) ^ ROTR(x, 22)**"
   ]
  },
  {
   "cell_type": "code",
   "execution_count": 70,
   "id": "63824e0f",
   "metadata": {},
   "outputs": [],
   "source": [
    "def Sigma0(x):\n",
    "    \"\"\"\n",
    "    Sigma0(x)\n",
    "    \n",
    "    The Sigma0 function from the Secure Hash Standard.\n",
    "\n",
    "    Performs a series of bitwise rotations and XOR operations on a \n",
    "    32-bit unsigned integer.\n",
    "\n",
    "    Parameters\n",
    "    x : int\n",
    "        A 32-bit unsigned integer.\n",
    "\n",
    "    Returns\n",
    "    np.uint32\n",
    "        The result of the Sigma0 function as a 32-bit unsigned integer.\n",
    "    \"\"\"\n",
    "\n",
    "    # Convert input to 32-bit unsigned integer.\n",
    "    # This is important for correct bitwise operations and \n",
    "    # ensures that all operations behave like they would in hardware\n",
    "    x = np.uint32(x)\n",
    "\n",
    "    # Perform the bitwise rotations and XOR operations.\n",
    "    # np.uint32 ensures the result is a 32-bit unsigned integer \n",
    "    # because python handles integers as unlimited size by default.\n",
    "    # Without np.uint32, the result could be a larger integer than intended.\n",
    "    # SHA-256 algorithm requires 32-bit unsigned integers for its operations.\n",
    "    \n",
    "    return np.uint32(\n",
    "        ((x >> 2) | (x << (32 - 2))) ^\n",
    "        ((x >> 13) | (x << (32 - 13))) ^\n",
    "        ((x >> 22) | (x << (32 - 22)))\n",
    "    )       "
   ]
  },
  {
   "cell_type": "markdown",
   "id": "21eb4e63",
   "metadata": {},
   "source": [
    "**Example Tests:**  Looks at x\n",
    "- The bits of x are rotated by 2, 13 and 22 positions.\n",
    "- Each rotated version is combined with XOR.\n",
    "- The result is a scrambled 32-bit number that spreads the bit information from the original x."
   ]
  },
  {
   "cell_type": "code",
   "execution_count": 71,
   "id": "0a11c10a",
   "metadata": {},
   "outputs": [
    {
     "name": "stdout",
     "output_type": "stream",
     "text": [
      "Sigma0(0x12345678) = Hex: 0x66146474 or Decimal: 1712612468\n",
      "Sigma0(0xFFFFFFFF) = Hex: 0xffffffff or Decimal: 4294967295\n",
      "Sigma0(0x00000000) = Hex: 0x0 or Decimal: 0\n"
     ]
    }
   ],
   "source": [
    "print(\"Sigma0(0x12345678) = Hex:\", \n",
    "      hex(Sigma0(0x12345678)), \n",
    "      \"or Decimal:\", Sigma0(0x12345678))    \n",
    "\n",
    "print(\"Sigma0(0xFFFFFFFF) = Hex:\", \n",
    "      hex(Sigma0(0xFFFFFFFF)), \n",
    "      \"or Decimal:\", Sigma0(0xFFFFFFFF))    \n",
    "\n",
    "print(\"Sigma0(0x00000000) = Hex:\", \n",
    "      hex(Sigma0(0x00000000)), \n",
    "      \"or Decimal:\", Sigma0(0x00000000))    "
   ]
  },
  {
   "cell_type": "markdown",
   "id": "d9d99cc9",
   "metadata": {},
   "source": [
    "### Function 5: Sigma1(x)\n",
    "\n",
    "The Sigma1 function performs three bitwise right rotations on the input x by 6, 11 and 25 bits, and combines them using XOR.\n",
    "\n",
    "This helps further mix the bits of x to increase diffusion in the SHA-256 hash algorith and ensuring that small input changes cause large changes in the hash output. \n",
    "\n",
    "Formula: \n",
    "\n",
    "- Secure Hash Standard: **Σ₁(x) = ROTR⁶(x) ⊕ ROTR¹¹(x) ⊕ ROTR²⁵(x)** \n",
    "- Python: **Sigma1(x) = ROTR(x, 6) ^ ROTR(x, 11) ^ ROTR(x, 25)**"
   ]
  },
  {
   "cell_type": "code",
   "execution_count": 72,
   "id": "e63d5fc4",
   "metadata": {},
   "outputs": [],
   "source": [
    "def Sigma1(x):\n",
    "    \"\"\"\n",
    "    Sigma1(x)\n",
    "    \n",
    "    The Sigma1 function from the Secure Hash Standard.\n",
    "\n",
    "    Performs a series of bitwise rotations and XOR operations on a \n",
    "    32-bit unsigned integer.\n",
    "\n",
    "    Parameters\n",
    "    x : int\n",
    "        A 32-bit unsigned integer.\n",
    "\n",
    "    Returns\n",
    "    np.uint32\n",
    "        The result of the Sigma1 function as a 32-bit unsigned integer.\n",
    "    \"\"\"\n",
    "\n",
    "    # Convert input to 32-bit unsigned integer.\n",
    "    # This is important for correct bitwise operations and \n",
    "    # ensures that all operations behave like they would in hardware\n",
    "    x = np.uint32(x)\n",
    "\n",
    "    # Perform the bitwise rotations and XOR operations.\n",
    "    # np.uint32 ensures the result is a 32-bit unsigned integer \n",
    "    # because python handles integers as unlimited size by default.\n",
    "    # Without np.uint32, the result could be a larger integer than intended.\n",
    "    # SHA-256 algorithm requires 32-bit unsigned integers for its operations.\n",
    "    \n",
    "    return np.uint32(\n",
    "        ((x >> 6) | (x << (32 - 6))) ^\n",
    "        ((x >> 11) | (x << (32 - 11))) ^\n",
    "        ((x >> 25) | (x << (32 - 25)))\n",
    "    )"
   ]
  },
  {
   "cell_type": "markdown",
   "id": "440f0e3b",
   "metadata": {},
   "source": [
    "**Example Tests:**  Looks at x\n",
    "- The bits of x are rotated by 6, 11 and 25 positions.\n",
    "- Each rotated version is combined with XOR.\n",
    "- The result is a scrambled 32-bit number that spreads the bit information from the original x."
   ]
  },
  {
   "cell_type": "code",
   "execution_count": 73,
   "id": "dad95689",
   "metadata": {},
   "outputs": [
    {
     "name": "stdout",
     "output_type": "stream",
     "text": [
      "Sigma1(0x12345678) = Hex: 0x3561abda or Decimal: 895593434\n",
      "Sigma1(0x00000000) = Hex: 0x0 or Decimal: 0\n",
      "Sigma1(0xFFFFFFFF) = Hex: 0xffffffff or Decimal: 4294967295\n"
     ]
    }
   ],
   "source": [
    "print(\"Sigma1(0x12345678) = Hex:\", \n",
    "      hex(Sigma1(0x12345678)), \n",
    "      \"or Decimal:\", Sigma1(0x12345678))\n",
    "\n",
    "print(\"Sigma1(0x00000000) = Hex:\", \n",
    "      hex(Sigma1(0x00000000)),\n",
    "      \"or Decimal:\", Sigma1(0x00000000))\n",
    "\n",
    "print(\"Sigma1(0xFFFFFFFF) = Hex:\", \n",
    "      hex(Sigma1(0xFFFFFFFF)),\n",
    "      \"or Decimal:\", Sigma1(0xFFFFFFFF))    "
   ]
  },
  {
   "cell_type": "markdown",
   "id": "1d4492b3",
   "metadata": {},
   "source": [
    "### Function 6: sigma0(x)\n",
    "\n",
    "The sigma0 function performs two bitwise right rotations and one logical right shift on the input x by 7, 18 and 3 bits, and combines them using XOR.\n",
    "\n",
    "This function is used during the message schedule step of the SHA-256 algorithm to expand and mix the message words before compression.\n",
    "\n",
    "Formula: \n",
    "- Secure Hash Standard: **σ₀(x) = ROTR⁷(x) ⊕ ROTR¹⁸(x) ⊕ SHR³(x)**\n",
    "- Python: **sigma0(x) = ROTR(x, 7) ^ ROTR(x, 18) ^ (x >> 3))**"
   ]
  },
  {
   "cell_type": "code",
   "execution_count": 74,
   "id": "7f1bc8e6",
   "metadata": {},
   "outputs": [],
   "source": [
    "def sigma0(x):\n",
    "    \"\"\"\n",
    "    sigma0(x)\n",
    "    \n",
    "    The sigma0 function from the Secure Hash Standard.\n",
    "\n",
    "    Performs a series of bitwise rotations, shifts, and XOR operations \n",
    "    on a 32-bit unsigned integer.\n",
    "\n",
    "    Parameters\n",
    "    x : int\n",
    "        A 32-bit unsigned integer.\n",
    "\n",
    "    Returns\n",
    "    np.uint32\n",
    "        The result of the sigma0 function as a 32-bit unsigned integer.\n",
    "    \"\"\"\n",
    "\n",
    "    # Convert input to 32-bit unsigned integer.\n",
    "    # This is important for correct bitwise operations and \n",
    "    # ensures that all operations behave like they would in hardware\n",
    "    x = np.uint32(x)\n",
    "\n",
    "    # Perform the bitwise rotations, shifts, and XOR operations.\n",
    "    # np.uint32 ensures the result is a 32-bit unsigned integer \n",
    "    # because python handles integers as unlimited size by default.\n",
    "    # Without np.uint32, the result could be a larger integer than intended.\n",
    "    # SHA-256 algorithm requires 32-bit unsigned integers for its operations.\n",
    "    \n",
    "    return np.uint32(\n",
    "        ((x >> 7) | (x << (32 - 7))) ^\n",
    "        ((x >> 18) | (x << (32 - 18))) ^\n",
    "        (x >> 3)\n",
    "    )   "
   ]
  },
  {
   "cell_type": "markdown",
   "id": "ab627dcf",
   "metadata": {},
   "source": [
    "**Example Tests:** Looks at x\n",
    "\n",
    "- The bits of x are rotated right by 7 and 18, and shifted right by 3.\n",
    "- These three versions are combined using XOR.\n",
    "- The result is a scrambled 32-bit number that helps expand the message words and improve diffusion before the main compression step."
   ]
  },
  {
   "cell_type": "code",
   "execution_count": 75,
   "id": "42a248ed",
   "metadata": {},
   "outputs": [
    {
     "name": "stdout",
     "output_type": "stream",
     "text": [
      "sigma0(0x12345678) = Hex: 0xe7fce6ee or Decimal: 3892111086\n",
      "sigma0(0xFFFFFFFF) = Hex: 0x1fffffff or Decimal: 536870911\n",
      "sigma0(0x12345678) = Hex: 0xe7fce6ee or Decimal: 3892111086\n"
     ]
    }
   ],
   "source": [
    "print(\"sigma0(0x12345678) = Hex:\", \n",
    "      hex(sigma0(0x12345678)), \n",
    "      \"or Decimal:\", sigma0(0x12345678))    \n",
    "\n",
    "print(\"sigma0(0xFFFFFFFF) = Hex:\", \n",
    "      hex(sigma0(0xFFFFFFFF)), \n",
    "      \"or Decimal:\", sigma0(0xFFFFFFFF))        \n",
    "\n",
    "print(\"sigma0(0x12345678) = Hex:\", \n",
    "      hex(sigma0(0x12345678)), \n",
    "      \"or Decimal:\", sigma0(0x12345678))"
   ]
  },
  {
   "cell_type": "markdown",
   "id": "c4d7bce6",
   "metadata": {},
   "source": [
    "### Function 7: sigma1(x)\n",
    "\n",
    "The Sigma1 function performs two bitwise right rotations and one logical right shift on the input x by 17, 19 and 10 bits, and combines them using XOR.\n",
    "\n",
    "This function is used during the message schedule step of the SHA-256 algorithm to expand and mix the message words before the main compression phase.\n",
    "\n",
    "Formula: \n",
    "- Secure Hash Standard: **σ₁(x) = ROTR¹⁷(x) ⊕ ROTR¹⁹(x) ⊕ SHR¹⁰(x)**  \n",
    "- Python: **sigma1(x) = ROTR(x, 17) ^ ROTR(x, 19) ^ (x >> 10)**"
   ]
  },
  {
   "cell_type": "code",
   "execution_count": 76,
   "id": "16d79e40",
   "metadata": {},
   "outputs": [],
   "source": [
    "def sigma1(x):\n",
    "    \"\"\"\n",
    "    sigma1(x)\n",
    "    \n",
    "    The sigma1 function from the Secure Hash Standard.\n",
    "\n",
    "    Performs a series of bitwise rotations and right shifts on a \n",
    "    32-bit unsigned integer.\n",
    "\n",
    "    Parameters\n",
    "    x : int\n",
    "        A 32-bit unsigned integer.\n",
    "\n",
    "    Returns\n",
    "    np.uint32\n",
    "        The result of the sigma1 function as a 32-bit unsigned integer.\n",
    "    \"\"\"\n",
    "\n",
    "    # Convert input to 32-bit unsigned integer.\n",
    "    # This is important for correct bitwise operations and \n",
    "    # ensures that all operations behave like they would in hardware\n",
    "    x = np.uint32(x)\n",
    "\n",
    "    # Perform the bitwise rotations and right shift operations.\n",
    "    # np.uint32 ensures the result is a 32-bit unsigned integer \n",
    "    # because python handles integers as unlimited size by default.\n",
    "    # Without np.uint32, the result could be a larger integer than intended.\n",
    "    # SHA-256 algorithm requires 32-bit unsigned integers for its operations.\n",
    "    \n",
    "    return np.uint32(\n",
    "        ((x >> 17) | (x << (32 - 17))) ^\n",
    "        ((x >> 19) | (x << (32 - 19))) ^\n",
    "        (x >> 10)\n",
    "    )"
   ]
  },
  {
   "cell_type": "markdown",
   "id": "ba3d6fc2",
   "metadata": {},
   "source": [
    "**Example Tests:** Looks at x\n",
    "- The bits of x are rotated right by 17 and 19, and shifted right by 10.\n",
    "- These three versions are combined using XOR.\n",
    "- The result is a scrambled 32-bit number that helps expand the message words and improve diffusion before the main compression step."
   ]
  },
  {
   "cell_type": "code",
   "execution_count": 77,
   "id": "4f608eb0",
   "metadata": {},
   "outputs": [
    {
     "name": "stdout",
     "output_type": "stream",
     "text": [
      "sigma1(0x12345678) = Hex: 0xa1f78649 or Decimal: 2717353545\n",
      "sigma1(0xFFFFFFFF) = Hex: 0x3fffff or Decimal: 4194303\n",
      "sigma1(0x00000000) = Hex: 0x0 or Decimal: 0\n"
     ]
    }
   ],
   "source": [
    "print(\"sigma1(0x12345678) = Hex:\", \n",
    "      hex(sigma1(0x12345678)), \n",
    "      \"or Decimal:\", sigma1(0x12345678))\n",
    "\n",
    "print(\"sigma1(0xFFFFFFFF) = Hex:\", \n",
    "      hex(sigma1(0xFFFFFFFF)),\n",
    "      \"or Decimal:\", sigma1(0xFFFFFFFF))    \n",
    "\n",
    "print(\"sigma1(0x00000000) = Hex:\", \n",
    "      hex(sigma1(0x00000000)),\n",
    "      \"or Decimal:\", sigma1(0x00000000))    "
   ]
  },
  {
   "cell_type": "markdown",
   "id": "f851cac5",
   "metadata": {},
   "source": [
    "## Problem 2: Fractional Parts of Cube Roots\n",
    "Use numpy to calculate the constants listed at the bottom of page 11 of the Secure Hash Standard. These are the first 32 bits of the fractional parts of the cube roots of the first 64 prime numbers."
   ]
  },
  {
   "cell_type": "code",
   "execution_count": 78,
   "id": "a2ea5f97",
   "metadata": {},
   "outputs": [],
   "source": [
    "def primes(n):\n",
    "    \"\"\" \n",
    "    Generate a list of the first n prime numbers. A prime number is a\n",
    "    number greater than 1 that has no positive divisors other than 1 and itself.\n",
    "\n",
    "    Parameters\n",
    "    n : int\n",
    "        The number of prime numbers to generate.\n",
    "\n",
    "    Returns\n",
    "    np.ndarray\n",
    "        A numpy array containing the first n prime numbers.\n",
    "    \"\"\"\n",
    "    # Initialize an empty list to store prime numbers\n",
    "    primes_list = []\n",
    "    # Start checking for primes from the first prime number\n",
    "    num = 2\n",
    "\n",
    "    # Continue until we have found n prime numbers\n",
    "    while len(primes_list) < n:\n",
    "        # Check if num is prime by testing divisibility with known primes \n",
    "        for p in primes_list:\n",
    "            # If num is divisible by any prime p, it's not prime\n",
    "            if num % p == 0:\n",
    "                break # Not a prime number\n",
    "        else:  \n",
    "            # If no divisors were found, num is prime\n",
    "            primes_list.append(num)\n",
    "        num += 1\n",
    "\n",
    "    # Return the list of prime numbers as a numpy array\n",
    "    # Numpy is needed for vectorized operations like cube roots\n",
    "    return np.array(primes_list)\n"
   ]
  },
  {
   "cell_type": "code",
   "execution_count": 79,
   "id": "630dda9b",
   "metadata": {},
   "outputs": [
    {
     "name": "stdout",
     "output_type": "stream",
     "text": [
      "First 64 prime numbers:\n",
      "[  2   3   5   7  11  13  17  19  23  29  31  37  41  43  47  53  59  61\n",
      "  67  71  73  79  83  89  97 101 103 107 109 113 127 131 137 139 149 151\n",
      " 157 163 167 173 179 181 191 193 197 199 211 223 227 229 233 239 241 251\n",
      " 257 263 269 271 277 281 283 293 307 311]\n"
     ]
    }
   ],
   "source": [
    "# Test the function by generating the first 64 prime numbers\n",
    "print(\"First 64 prime numbers:\")\n",
    "print(primes(64))    "
   ]
  },
  {
   "cell_type": "markdown",
   "id": "13b5f9df",
   "metadata": {},
   "source": [
    "Calculate SHA-256 Round Constants (K values)\n",
    " \n",
    "The process to derive the K constants:\n",
    "1. Take the cube root of each prime number\n",
    "2. Extract the fractional part (digits after the decimal point)\n",
    "3. Scale by 2³² to convert the first 32 bits to an integer\n",
    "4. Convert to 32-bit unsigned integer format"
   ]
  },
  {
   "cell_type": "code",
   "execution_count": 80,
   "id": "cd07c7a4",
   "metadata": {},
   "outputs": [],
   "source": [
    "# Generate the first 64 prime numbers\n",
    "prime_list = primes(64)\n",
    "\n",
    "# Calculate the cube roots of the prime numbers\n",
    "# np.cbrt is more accurate than using ** (1/3)\n",
    "cube_roots = np.cbrt(prime_list)\n",
    "\n",
    "# Extract the fractional parts of the cube roots\n",
    "# np.floor removes the integer part, leaving only the decimal portion\n",
    "fracs = cube_roots - np.floor(cube_roots)\n",
    "\n",
    "# Scale the fractional parts to 32-bit unsigned integers\n",
    "# Multiply by 2^32 to shift the first 32 bits of the fraction into integer range\n",
    "# dtype=np.uint32 ensures the result is stored as 32-bit unsigned integers\n",
    "# This is required for SHA-256 which operates on 32-bit words\n",
    "fracs32 = np.array(fracs * (2**32), dtype=np.uint32)\n",
    "\n",
    "# Print during testing the fractional parts of the cube roots of the \n",
    "# first 64 primes, scaled to 32-bit unsigned integers\n",
    "# print(fracs32)\n"
   ]
  },
  {
   "cell_type": "markdown",
   "id": "e196cd33",
   "metadata": {},
   "source": [
    "Display the results in hexadecimal format\n",
    "\n",
    "f\"0x{val:08x}\" formats each value as:\n",
    "- 0x: hexadecimal prefix\n",
    "- 08x: 8 hex digits, zero-padded, lowercase"
   ]
  },
  {
   "cell_type": "code",
   "execution_count": 81,
   "id": "46af243e",
   "metadata": {},
   "outputs": [
    {
     "name": "stdout",
     "output_type": "stream",
     "text": [
      "\n",
      "Hexadecimal values:\n",
      "['0x428a2f98', '0x71374491', '0xb5c0fbcf', '0xe9b5dba5', '0x3956c25b', '0x59f111f1', '0x923f82a4', '0xab1c5ed5', '0xd807aa98', '0x12835b01', '0x243185be', '0x550c7dc3', '0x72be5d74', '0x80deb1fe', '0x9bdc06a7', '0xc19bf174', '0xe49b69c1', '0xefbe4786', '0x0fc19dc6', '0x240ca1cc', '0x2de92c6f', '0x4a7484aa', '0x5cb0a9dc', '0x76f988da', '0x983e5152', '0xa831c66d', '0xb00327c8', '0xbf597fc7', '0xc6e00bf3', '0xd5a79147', '0x06ca6351', '0x14292967', '0x27b70a85', '0x2e1b2138', '0x4d2c6dfc', '0x53380d13', '0x650a7354', '0x766a0abb', '0x81c2c92e', '0x92722c85', '0xa2bfe8a1', '0xa81a664b', '0xc24b8b70', '0xc76c51a3', '0xd192e819', '0xd6990624', '0xf40e3585', '0x106aa070', '0x19a4c116', '0x1e376c08', '0x2748774c', '0x34b0bcb5', '0x391c0cb3', '0x4ed8aa4a', '0x5b9cca4f', '0x682e6ff3', '0x748f82ee', '0x78a5636f', '0x84c87814', '0x8cc70208', '0x90befffa', '0xa4506ceb', '0xbef9a3f7', '0xc67178f2']\n"
     ]
    }
   ],
   "source": [
    "# Convert the 32-bit unsigned integers to hexadecimal format\n",
    "hex_values = [f\"0x{val:08x}\" for val in fracs32]\n",
    "print(\"\\nHexadecimal values:\")\n",
    "print(hex_values)"
   ]
  },
  {
   "cell_type": "markdown",
   "id": "dc68a37a",
   "metadata": {},
   "source": [
    "Verify against SHA-256 standard"
   ]
  },
  {
   "cell_type": "code",
   "execution_count": 82,
   "id": "f8dbc7c8",
   "metadata": {},
   "outputs": [
    {
     "name": "stdout",
     "output_type": "stream",
     "text": [
      "\n",
      "The generated K values match the official K values from SHA-256 standard.\n"
     ]
    }
   ],
   "source": [
    "# Official K values from the SHA-256 standard\n",
    "K_official = [\n",
    "    0x428a2f98, 0x71374491, 0xb5c0fbcf, 0xe9b5dba5,\n",
    "    0x3956c25b, 0x59f111f1, 0x923f82a4, 0xab1c5ed5,\n",
    "    0xd807aa98, 0x12835b01, 0x243185be, 0x550c7dc3,\n",
    "    0x72be5d74, 0x80deb1fe, 0x9bdc06a7, 0xc19bf174,\n",
    "    0xe49b69c1, 0xefbe4786, 0x0fc19dc6, 0x240ca1cc,\n",
    "    0x2de92c6f, 0x4a7484aa, 0x5cb0a9dc, 0x76f988da,\n",
    "    0x983e5152, 0xa831c66d, 0xb00327c8, 0xbf597fc7,\n",
    "    0xc6e00bf3, 0xd5a79147, 0x06ca6351, 0x14292967,\n",
    "    0x27b70a85, 0x2e1b2138, 0x4d2c6dfc, 0x53380d13,\n",
    "    0x650a7354, 0x766a0abb, 0x81c2c92e, 0x92722c85,\n",
    "    0xa2bfe8a1, 0xa81a664b, 0xc24b8b70, 0xc76c51a3,\n",
    "    0xd192e819, 0xd6990624, 0xf40e3585, 0x106aa070,\n",
    "    0x19a4c116, 0x1e376c08, 0x2748774c, 0x34b0bcb5,\n",
    "    0x391c0cb3, 0x4ed8aa4a, 0x5b9cca4f, 0x682e6ff3,\n",
    "    0x748f82ee, 0x78a5636f, 0x84c87814, 0x8cc70208,\n",
    "    0x90befffa, 0xa4506ceb, 0xbef9a3f7, 0xc67178f2\n",
    "]\n",
    "\n",
    "# Verify that the generated K values match the official K values\n",
    "if np.array_equal(fracs32, np.array(K_official, dtype=np.uint32)):\n",
    "    print(\"\\nThe generated K values match the official K values from SHA-256 standard.\")\n",
    "else:\n",
    "    print(\"\\nThe generated K values do NOT match the official K values from SHA-256 standard.\") \n"
   ]
  },
  {
   "cell_type": "markdown",
   "id": "2921fb57",
   "metadata": {},
   "source": [
    "## Problem 3: Padding\n",
    "Write a generator function block_parse(msg) that processes messages according to section 5.1.1 and 5.2.1 of the Secure Hash Standard. The function should accept a bytes object called msg. At each iteration, it should yield the next 512-bit block of msg as a bytes object. Ensure that the final block (or final two blocks) include the required padding of msg as specified in the standard. Test the generator with messages of different lengths to confirm proper padding and block output."
   ]
  },
  {
   "cell_type": "code",
   "execution_count": null,
   "id": "50cddfbc",
   "metadata": {},
   "outputs": [],
   "source": []
  },
  {
   "cell_type": "markdown",
   "id": "b237edc5",
   "metadata": {},
   "source": [
    "## Problem 4: Hashes\n",
    "Write a function hash(current, block) that calculates the next hash value given the current hash value and the next message block according to section 6.2.2 SHA-256 Hash Computation on page 22 of the Secure Hash Standard."
   ]
  },
  {
   "cell_type": "code",
   "execution_count": null,
   "id": "a3c3f8ca",
   "metadata": {},
   "outputs": [],
   "source": []
  },
  {
   "cell_type": "markdown",
   "id": "4ccc8a9f",
   "metadata": {},
   "source": [
    "## Problem 5: Passwords\n",
    "The following are the SHA-256 hashes of three common passwords that have been hashed using one pass of the SHA-256 algorithm. As strings, they were encoded using UTF-8. Determine the passwords and explain how you found them. Suggest ways in which the hashing of passwords could be improved to prevent the kind of attack you performed to find the passwords.\n",
    "\n",
    "    1. 5e884898da28047151d0e56f8dc6292773603d0d6aabbdd62a11ef721d1542d8\n",
    "\n",
    "    2. 873ac9ffea4dd04fa719e8920cd6938f0c23cd678af330939cff53c3d2855f34\n",
    "    \n",
    "    3. b03ddf3ca2e714a6548e7495e2a03f5e824eaac9837cd7f159c67b90fb4b7342"
   ]
  },
  {
   "cell_type": "code",
   "execution_count": null,
   "id": "95b086d7",
   "metadata": {},
   "outputs": [],
   "source": []
  },
  {
   "cell_type": "markdown",
   "id": "a247ddef",
   "metadata": {},
   "source": [
    "## End"
   ]
  }
 ],
 "metadata": {
  "kernelspec": {
   "display_name": "Python 3",
   "language": "python",
   "name": "python3"
  },
  "language_info": {
   "codemirror_mode": {
    "name": "ipython",
    "version": 3
   },
   "file_extension": ".py",
   "mimetype": "text/x-python",
   "name": "python",
   "nbconvert_exporter": "python",
   "pygments_lexer": "ipython3",
   "version": "3.12.1"
  }
 },
 "nbformat": 4,
 "nbformat_minor": 5
}
