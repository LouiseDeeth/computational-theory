{
 "cells": [
  {
   "cell_type": "markdown",
   "id": "1bc01fcd",
   "metadata": {},
   "source": [
    "# Computational Theory Problems"
   ]
  },
  {
   "cell_type": "markdown",
   "id": "f715c334",
   "metadata": {},
   "source": [
    "## Problem 1: Binary Words and Operations"
   ]
  },
  {
   "cell_type": "code",
   "execution_count": 40,
   "id": "cb7d3ebd",
   "metadata": {},
   "outputs": [],
   "source": [
    "# import necessary libraries\n",
    "import numpy as np"
   ]
  },
  {
   "cell_type": "markdown",
   "id": "a2890833",
   "metadata": {},
   "source": [
    "### Function 1: Parity(x, y, z)\n",
    "\n",
    "The Parity() function implements the bitwise XOR of three 32-bit unsigned integers.\n",
    "\n",
    "This operation outputs a 1 for each bit position where an odd number of bits is 1.\n",
    "\n",
    "It is used in the SHA-1 hashing algorithm to combine three message words into a new value.\n",
    "\n",
    "Formula: **Parity(x, y, z) = x ⊕ y ⊕ z**"
   ]
  },
  {
   "cell_type": "code",
   "execution_count": 41,
   "id": "2f3fbee4",
   "metadata": {},
   "outputs": [
    {
     "name": "stdout",
     "output_type": "stream",
     "text": [
      "Parity(0x12345678, 0x9abcdef0, 0x0fedcba9) = Hex: 0x87654321 or Decimal: 2271560481\n",
      "Parity(0xffffffff, 0x00000000, 0x12345678) = Hex: 0xedcba987 or Decimal: 3989547399\n",
      "Parity(0x0, 0x0, 0x0) = Hex: 0x0 or Decimal: 0\n"
     ]
    }
   ],
   "source": [
    "def Parity(x, y, z):\n",
    "    \"\"\"\n",
    "    Parity(x, y, z) \n",
    "        \n",
    "    Performs bitwise XOR operation on three 32-bit unsigned integers. \n",
    "    Bitwise XOR is a way to compare 2 numbers bit by bit: if the bits \n",
    "    are the same, the output is 0; if they are different, the output is 1.    \n",
    "    This function is used in the SHA-1 hash algorithm. \n",
    "\n",
    "    Parameters\n",
    "    x, y, z : int\n",
    "        Three 32-bit unsigned integers.\n",
    "\n",
    "    Returns\n",
    "    np.uint32\n",
    "        The bitwise XOR of x, y and z (Three 32-bit unsigned integers).\n",
    "    \"\"\"\n",
    "\n",
    "    # Convert all inputs to 32-bit unsigned integers.\n",
    "    # This is important for correct bitwise operations and \n",
    "    # ensures that all operations behave like they would in hardware\n",
    "    x = np.uint32(x)\n",
    "    y = np.uint32(y)\n",
    "    z = np.uint32(z)\n",
    "\n",
    "    # The symbol ∧ means bitwise XOR (exclusive OR) in python.\n",
    "    # np.uint32 ensures the result is a 32-bit unsigned integer \n",
    "    # because python handles integers as unlimited size by default.\n",
    "    # This means that without np.uint32, the result could be a larger \n",
    "    # integer than intended.\n",
    "    # SHA-1 algorithm requires 32-bit unsigned integers for its operations.\n",
    "    \n",
    "    # Return the result of the bitwise XOR operation.\n",
    "    return np.uint32(x ^ y ^ z)\n",
    "\n",
    "# Example tests:\n",
    "# Takes each hex number and converts them to binary and XORs them \n",
    "# to give a new 32-bit result hex number which is then converted to decimal.\n",
    "print(\"Parity(0x12345678, 0x9abcdef0, 0x0fedcba9) = Hex:\", \n",
    "      hex(Parity(0x12345678, 0x9abcdef0, 0x0fedcba9)), \n",
    "      \"or Decimal:\", Parity(0x12345678, 0x9abcdef0, 0x0fedcba9))\n",
    "\n",
    "\n",
    "print(\n",
    "    \"Parity(0xffffffff, 0x00000000, 0x12345678) = \"\n",
    "    f\"Hex: {hex(Parity(0xffffffff, 0x00000000, 0x12345678))} \"\n",
    "    f\"or Decimal: {Parity(0xffffffff, 0x00000000, 0x12345678)}\"\n",
    ")\n",
    "\n",
    "print(\"Parity(0x0, 0x0, 0x0) = Hex:\", \n",
    "      hex(Parity(0x0, 0x0, 0x0)), \n",
    "      \"or Decimal:\", Parity(0x0, 0x0, 0x0))"
   ]
  },
  {
   "cell_type": "markdown",
   "id": "a14e4c2f",
   "metadata": {},
   "source": [
    "### Function 2: Ch(x, y, z)\n",
    "\n",
    "The Choose function selects bits from y or z depending on x.\n",
    "\n",
    "It acts like a bitwise if-else:\n",
    "\n",
    "- If the bit in x is 1, use the bit from y\n",
    "\n",
    "- If the bit in x is 0, use the bit from z\n",
    "\n",
    "This operation is part of the SHA family of cryptographic hash functions and helps mix message bits in a non-linear way.\n",
    "\n",
    "Formula: Secure Hash Standard: **Ch(x, y, z)=(x ∧ y) ⊕ (¬x∧z)**  and in Python: **Ch(x, y, z) = (x & y) ⊕ ((~ x) & z)**"
   ]
  },
  {
   "cell_type": "code",
   "execution_count": 42,
   "id": "3d8b68b5",
   "metadata": {},
   "outputs": [
    {
     "name": "stdout",
     "output_type": "stream",
     "text": [
      "Ch(0xFFFFFFFF, 0x12345678, 0x9ABCDEF0) = Hex: 0x12345678 or Decimal: 305419896\n",
      "Ch(0x00000000, 0x12345678, 0x9ABCDEF0) = Hex: 0x9abcdef0 or Decimal: 2596069104\n",
      "Ch(0xF0F0F0F0, 0xAAAAAAAA, 0x55555555) = Hex: 0xa5a5a5a5 or Decimal: 2779096485\n"
     ]
    }
   ],
   "source": [
    "def Ch(x, y, z):\n",
    "    \"\"\"\n",
    "    Ch(x, y, z)\n",
    "    \n",
    "    The Choose function from the Secure Hash Standard.\n",
    "\n",
    "    For each bit position:    \n",
    "        - If the bit in x is 1, use the bit from y\n",
    "        - If the bit in x is 0, use the bit from z\n",
    "\n",
    "    Parameters\n",
    "    x, y, z : int\n",
    "        Three 32-bit unsigned integers.     \n",
    "\n",
    "    Returns\n",
    "    np.uint32\n",
    "        The result of the Choose function as a 32-bit unsigned integer. \n",
    "    \"\"\"\n",
    "\n",
    "    # Convert all inputs to 32-bit unsigned integers.\n",
    "    # This is important for correct bitwise operations and \n",
    "    # ensures that all operations behave like they would in hardware\n",
    "    x = np.uint32(x)\n",
    "    y = np.uint32(y)\n",
    "    z = np.uint32(z)\n",
    "\n",
    "    # Symbols:\n",
    "    # &  bitwise AND \n",
    "    # ~ means bitwise NOT \n",
    "    # ^ means bitwise XOR (exclusive OR) \n",
    "\n",
    "    # np.uint32 ensures the result is a 32-bit unsigned integer \n",
    "    # because python handles integers as unlimited size by default.\n",
    "    # Without np.uint32, the result could be a larger integer than intended.\n",
    "    # SHA-1 algorithm requires 32-bit unsigned integers for its operations.\n",
    "    \n",
    "    # Return the result of the Choose function operation.\n",
    "    return np.uint32((x & y) ^ (~x & z))\n",
    "\n",
    "# Example tests:    \n",
    "print(\"Ch(0xFFFFFFFF, 0x12345678, 0x9ABCDEF0) = Hex:\",\n",
    "      hex(Ch(0xFFFFFFFF, 0x12345678, 0x9ABCDEF0)),\n",
    "      \"or Decimal:\", Ch(0xFFFFFFFF, 0x12345678, 0x9ABCDEF0))\n",
    "\n",
    "print(\"Ch(0x00000000, 0x12345678, 0x9ABCDEF0) = Hex:\",\n",
    "      hex(Ch(0x00000000, 0x12345678, 0x9ABCDEF0)),\n",
    "      \"or Decimal:\", Ch(0x00000000, 0x12345678, 0x9ABCDEF0))\n",
    "\n",
    "print(\"Ch(0xF0F0F0F0, 0xAAAAAAAA, 0x55555555) = Hex:\",\n",
    "      hex(Ch(0xF0F0F0F0, 0xAAAAAAAA, 0x55555555)),\n",
    "      \"or Decimal:\", Ch(0xF0F0F0F0, 0xAAAAAAAA, 0x55555555))"
   ]
  },
  {
   "cell_type": "markdown",
   "id": "45660ddc",
   "metadata": {},
   "source": [
    "### Function 3: Maj(x, y, z)"
   ]
  },
  {
   "cell_type": "code",
   "execution_count": 43,
   "id": "50dd657f",
   "metadata": {},
   "outputs": [],
   "source": [
    "def Maj(x, y, z):\n",
    "    \"\"\"\n",
    "    Maj(x, y, z)\n",
    "    \n",
    "    The Majority function from the Secure Hash Standard.\n",
    "\n",
    "    For each bit position:    \n",
    "        - If the majority of the bits in x, y, and z are 1, the result is 1\n",
    "        - If the majority of the bits in x, y, and z are 0, the result is 0     \n",
    "        \n",
    "    Parameters\n",
    "    x, y, z : int\n",
    "\n",
    "        Three 32-bit unsigned integers.\n",
    "    Returns\n",
    "    np.uint32\n",
    "        The result of the Majority function as a 32-bit unsigned integer.\n",
    "    \"\"\"\n",
    "\n",
    "    # Convert all inputs to 32-bit unsigned integers.\n",
    "    # This is important for correct bitwise operations and ensures that \n",
    "    # all operations behave like they would in hardware\n",
    "    x = np.uint32(x)\n",
    "    y = np.uint32(y)\n",
    "    z = np.uint32(z)\n",
    "\n",
    "    # The symbol & means bitwise AND in python.\n",
    "    # The symbol | means bitwise OR in python.\n",
    "    # np.uint32 ensures the result is a 32-bit unsigned integer because \n",
    "    # python handles integers as unlimited size by default.\n",
    "    # Without np.uint32, the result could be a larger integer than intended.\n",
    "    # SHA-1 algorithm requires 32-bit unsigned integers for its operations.\n",
    "    # Return the result of the Majority function operation.\n",
    "    return np.uint32((x & y) | (x & z) | (y & z))"
   ]
  },
  {
   "cell_type": "markdown",
   "id": "f851cac5",
   "metadata": {},
   "source": [
    "## Problem 2: Fractional Parts of Cube Roots\n",
    "Use numpy to calculate the constants listed at the bottom of page 11 of the Secure Hash Standard, following the steps below. These are the first 32 bits of the fractional parts of the cube roots of the first 64 prime numbers.\n",
    "\n",
    "Write a function called primes(n) that generates the first n prime numbers.\n",
    "\n",
    "Use the function to calculate the cube root of the first 64 primes.\n",
    "\n",
    "For each cube root, extract the first thirty-two bits of the fractional part.\n",
    "\n",
    "Display the result in hexadecimal.\n",
    "\n",
    "Test the results against what is in the Secure Hash Standard."
   ]
  },
  {
   "cell_type": "code",
   "execution_count": null,
   "id": "a2ea5f97",
   "metadata": {},
   "outputs": [],
   "source": []
  },
  {
   "cell_type": "markdown",
   "id": "2921fb57",
   "metadata": {},
   "source": [
    "## Problem 3: Padding\n",
    "Write a generator function block_parse(msg) that processes messages according to section 5.1.1 and 5.2.1 of the Secure Hash Standard. The function should accept a bytes object called msg. At each iteration, it should yield the next 512-bit block of msg as a bytes object. Ensure that the final block (or final two blocks) include the required padding of msg as specified in the standard. Test the generator with messages of different lengths to confirm proper padding and block output."
   ]
  },
  {
   "cell_type": "code",
   "execution_count": null,
   "id": "50cddfbc",
   "metadata": {},
   "outputs": [],
   "source": []
  },
  {
   "cell_type": "markdown",
   "id": "b237edc5",
   "metadata": {},
   "source": [
    "## Problem 4: Hashes\n",
    "Write a function hash(current, block) that calculates the next hash value given the current hash value and the next message block according to section 6.2.2 SHA-256 Hash Computation on page 22 of the Secure Hash Standard."
   ]
  },
  {
   "cell_type": "code",
   "execution_count": null,
   "id": "a3c3f8ca",
   "metadata": {},
   "outputs": [],
   "source": []
  },
  {
   "cell_type": "markdown",
   "id": "4ccc8a9f",
   "metadata": {},
   "source": [
    "## Problem 5: Passwords\n",
    "The following are the SHA-256 hashes of three common passwords that have been hashed using one pass of the SHA-256 algorithm. As strings, they were encoded using UTF-8. Determine the passwords and explain how you found them. Suggest ways in which the hashing of passwords could be improved to prevent the kind of attack you performed to find the passwords.\n",
    "\n",
    "    1. 5e884898da28047151d0e56f8dc6292773603d0d6aabbdd62a11ef721d1542d8\n",
    "\n",
    "    2. 873ac9ffea4dd04fa719e8920cd6938f0c23cd678af330939cff53c3d2855f34\n",
    "    \n",
    "    3. b03ddf3ca2e714a6548e7495e2a03f5e824eaac9837cd7f159c67b90fb4b7342"
   ]
  },
  {
   "cell_type": "code",
   "execution_count": null,
   "id": "95b086d7",
   "metadata": {},
   "outputs": [],
   "source": []
  },
  {
   "cell_type": "markdown",
   "id": "a247ddef",
   "metadata": {},
   "source": [
    "## End"
   ]
  }
 ],
 "metadata": {
  "kernelspec": {
   "display_name": "Python 3",
   "language": "python",
   "name": "python3"
  },
  "language_info": {
   "codemirror_mode": {
    "name": "ipython",
    "version": 3
   },
   "file_extension": ".py",
   "mimetype": "text/x-python",
   "name": "python",
   "nbconvert_exporter": "python",
   "pygments_lexer": "ipython3",
   "version": "3.12.1"
  }
 },
 "nbformat": 4,
 "nbformat_minor": 5
}
