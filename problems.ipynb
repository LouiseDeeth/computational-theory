{
 "cells": [
  {
   "cell_type": "markdown",
   "id": "1bc01fcd",
   "metadata": {},
   "source": [
    "# Computational Theory Problems"
   ]
  },
  {
   "cell_type": "markdown",
   "id": "f715c334",
   "metadata": {},
   "source": [
    "## Problem 1: Binary Words and Operations\n",
    "Implement the following functions in Python. Use numpy to ensure that all variables and values are treated as 32-bit integers. These functions are defined in the Secure Hash Standard"
   ]
  },
  {
   "cell_type": "code",
   "execution_count": null,
   "id": "2f3fbee4",
   "metadata": {},
   "outputs": [],
   "source": [
    "import numpy as np\n",
    "\n",
    "def Parity (x, y, z):\n",
    "    \"\"\"\n",
    "    Parity function \n",
    "    \"\"\"\n",
    "    x = np.unit32(x)\n",
    "    y = np.uint32(y)\n",
    "    z = np.uint32(z)\n",
    "\n",
    "    return np.uint32(x ^ y ^ z)\n"
   ]
  },
  {
   "cell_type": "markdown",
   "id": "f851cac5",
   "metadata": {},
   "source": [
    "## Problem 2: Fractional Parts of Cube Roots\n",
    "Use numpy to calculate the constants listed at the bottom of page 11 of the Secure Hash Standard, following the steps below. These are the first 32 bits of the fractional parts of the cube roots of the first 64 prime numbers.\n",
    "\n",
    "Write a function called primes(n) that generates the first n prime numbers.\n",
    "\n",
    "Use the function to calculate the cube root of the first 64 primes.\n",
    "\n",
    "For each cube root, extract the first thirty-two bits of the fractional part.\n",
    "\n",
    "Display the result in hexadecimal.\n",
    "\n",
    "Test the results against what is in the Secure Hash Standard."
   ]
  },
  {
   "cell_type": "code",
   "execution_count": null,
   "id": "a2ea5f97",
   "metadata": {},
   "outputs": [],
   "source": []
  },
  {
   "cell_type": "markdown",
   "id": "2921fb57",
   "metadata": {},
   "source": [
    "## Problem 3: Padding\n",
    "Write a generator function block_parse(msg) that processes messages according to section 5.1.1 and 5.2.1 of the Secure Hash Standard. The function should accept a bytes object called msg. At each iteration, it should yield the next 512-bit block of msg as a bytes object. Ensure that the final block (or final two blocks) include the required padding of msg as specified in the standard. Test the generator with messages of different lengths to confirm proper padding and block output."
   ]
  },
  {
   "cell_type": "code",
   "execution_count": null,
   "id": "50cddfbc",
   "metadata": {},
   "outputs": [],
   "source": []
  },
  {
   "cell_type": "markdown",
   "id": "b237edc5",
   "metadata": {},
   "source": [
    "## Problem 4: Hashes\n",
    "Write a function hash(current, block) that calculates the next hash value given the current hash value and the next message block according to section 6.2.2 SHA-256 Hash Computation on page 22 of the Secure Hash Standard."
   ]
  },
  {
   "cell_type": "code",
   "execution_count": null,
   "id": "a3c3f8ca",
   "metadata": {},
   "outputs": [],
   "source": []
  },
  {
   "cell_type": "markdown",
   "id": "4ccc8a9f",
   "metadata": {},
   "source": [
    "## Problem 5: Passwords\n",
    "The following are the SHA-256 hashes of three common passwords that have been hashed using one pass of the SHA-256 algorithm. As strings, they were encoded using UTF-8. Determine the passwords and explain how you found them. Suggest ways in which the hashing of passwords could be improved to prevent the kind of attack you performed to find the passwords.\n",
    "\n",
    "    1. 5e884898da28047151d0e56f8dc6292773603d0d6aabbdd62a11ef721d1542d8\n",
    "\n",
    "    2. 873ac9ffea4dd04fa719e8920cd6938f0c23cd678af330939cff53c3d2855f34\n",
    "    \n",
    "    3. b03ddf3ca2e714a6548e7495e2a03f5e824eaac9837cd7f159c67b90fb4b7342"
   ]
  },
  {
   "cell_type": "code",
   "execution_count": null,
   "id": "95b086d7",
   "metadata": {},
   "outputs": [],
   "source": []
  },
  {
   "cell_type": "markdown",
   "id": "a247ddef",
   "metadata": {},
   "source": [
    "## End"
   ]
  }
 ],
 "metadata": {
  "kernelspec": {
   "display_name": "Python 3",
   "language": "python",
   "name": "python3"
  },
  "language_info": {
   "codemirror_mode": {
    "name": "ipython",
    "version": 3
   },
   "file_extension": ".py",
   "mimetype": "text/x-python",
   "name": "python",
   "nbconvert_exporter": "python",
   "pygments_lexer": "ipython3",
   "version": "3.12.1"
  }
 },
 "nbformat": 4,
 "nbformat_minor": 5
}
