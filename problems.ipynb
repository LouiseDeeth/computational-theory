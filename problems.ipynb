{
 "cells": [
  {
   "cell_type": "markdown",
   "id": "1bc01fcd",
   "metadata": {},
   "source": [
    "# Computational Theory Problems"
   ]
  },
  {
   "cell_type": "markdown",
   "id": "f715c334",
   "metadata": {},
   "source": [
    "## Problem 1: Binary Words and Operations"
   ]
  },
  {
   "cell_type": "code",
   "execution_count": 95,
   "id": "cb7d3ebd",
   "metadata": {},
   "outputs": [],
   "source": [
    "# import necessary libraries\n",
    "import numpy as np"
   ]
  },
  {
   "cell_type": "markdown",
   "id": "a2890833",
   "metadata": {},
   "source": [
    "### Function 1: Parity(x, y, z)\n",
    "\n",
    "The Parity() function implements the bitwise XOR of three 32-bit unsigned integers.\n",
    "\n",
    "This operation outputs a 1 for each bit position where an odd number of bits is 1.\n",
    "\n",
    "It is used in the SHA-1 hashing algorithm to combine three message words into a new value.\n",
    "\n",
    "Formula: **Parity(x, y, z) = x ⊕ y ⊕ z**"
   ]
  },
  {
   "cell_type": "code",
   "execution_count": 96,
   "id": "2f3fbee4",
   "metadata": {},
   "outputs": [],
   "source": [
    "def Parity(x, y, z):\n",
    "    \"\"\"\n",
    "    Parity(x, y, z) \n",
    "        \n",
    "    Performs bitwise XOR operation on three 32-bit unsigned integers. \n",
    "    Bitwise XOR is a way to compare 2 numbers bit by bit: if the bits \n",
    "    are the same, the output is 0; if they are different, the output is 1.    \n",
    "    This function is used in the SHA-1 hash algorithm. \n",
    "\n",
    "    Parameters\n",
    "    x, y, z : int\n",
    "        Three 32-bit unsigned integers.\n",
    "\n",
    "    Returns\n",
    "    np.uint32\n",
    "        The bitwise XOR of x, y and z (Three 32-bit unsigned integers).\n",
    "    \"\"\"\n",
    "\n",
    "    # Convert all inputs to 32-bit unsigned integers.\n",
    "    # This is important for correct bitwise operations and \n",
    "    # ensures that all operations behave like they would in hardware\n",
    "    x = np.uint32(x)\n",
    "    y = np.uint32(y)\n",
    "    z = np.uint32(z)\n",
    "\n",
    "    # The symbol ∧ means bitwise XOR (exclusive OR) in python.\n",
    "    # np.uint32 ensures the result is a 32-bit unsigned integer \n",
    "    # because python handles integers as unlimited size by default.\n",
    "    # Without np.uint32, the result could be a larger integerthan intended.\n",
    "    # SHA-1 algorithm requires 32-bit unsigned integers for its operations.\n",
    "    \n",
    "    # Return the result of the bitwise XOR operation.\n",
    "    return np.uint32(x ^ y ^ z)"
   ]
  },
  {
   "cell_type": "markdown",
   "id": "e936119d",
   "metadata": {},
   "source": [
    "**Example tests:** \n",
    "Takes each hex number and converts them to binary and XORs them to give a new 32-bit result hex number which is then converted to decimal."
   ]
  },
  {
   "cell_type": "code",
   "execution_count": 97,
   "id": "d55e3dba",
   "metadata": {},
   "outputs": [
    {
     "name": "stdout",
     "output_type": "stream",
     "text": [
      "Parity(0x12345678, 0x9abcdef0, 0x0fedcba9) = Hex: 0x87654321 or Decimal: 2271560481\n",
      "Parity(0xffffffff, 0x00000000, 0x12345678) = Hex: 0xedcba987 or Decimal: 3989547399\n",
      "Parity(0x0, 0x0, 0x0) = Hex: 0x0 or Decimal: 0\n"
     ]
    }
   ],
   "source": [
    "print(\"Parity(0x12345678, 0x9abcdef0, 0x0fedcba9) = Hex:\", \n",
    "      hex(Parity(0x12345678, 0x9abcdef0, 0x0fedcba9)), \n",
    "      \"or Decimal:\", Parity(0x12345678, 0x9abcdef0, 0x0fedcba9))\n",
    "\n",
    "print(\n",
    "    \"Parity(0xffffffff, 0x00000000, 0x12345678) = \"\n",
    "    f\"Hex: {hex(Parity(0xffffffff, 0x00000000, 0x12345678))} \"\n",
    "    f\"or Decimal: {Parity(0xffffffff, 0x00000000, 0x12345678)}\")\n",
    "\n",
    "print(\"Parity(0x0, 0x0, 0x0) = Hex:\", \n",
    "      hex(Parity(0x0, 0x0, 0x0)), \n",
    "      \"or Decimal:\", Parity(0x0, 0x0, 0x0))"
   ]
  },
  {
   "cell_type": "markdown",
   "id": "a14e4c2f",
   "metadata": {},
   "source": [
    "### Function 2: Ch(x, y, z)\n",
    "\n",
    "The Choose function selects bits from y or z depending on x.\n",
    "\n",
    "It acts like a bitwise if-else:\n",
    "- If the bit in x is 1, use the bit from y\n",
    "- If the bit in x is 0, use the bit from z\n",
    "\n",
    "This operation is part of the SHA family of cryptographic hash functions and helps mix message bits in a non-linear way.\n",
    "\n",
    "Formula: Secure Hash Standard: **Ch(x, y, z)=(x ∧ y) ⊕ (¬x∧z)**  and in Python: **Ch(x, y, z) = (x & y) ⊕ ((~ x) & z)**"
   ]
  },
  {
   "cell_type": "code",
   "execution_count": 98,
   "id": "3d8b68b5",
   "metadata": {},
   "outputs": [],
   "source": [
    "def Ch(x, y, z):\n",
    "    \"\"\"\n",
    "    Ch(x, y, z)\n",
    "    \n",
    "    The Choose function from the Secure Hash Standard.\n",
    "\n",
    "    For each bit position:    \n",
    "        - If the bit in x is 1, use the bit from y\n",
    "        - If the bit in x is 0, use the bit from z\n",
    "\n",
    "    Parameters\n",
    "    x, y, z : int\n",
    "        Three 32-bit unsigned integers.     \n",
    "\n",
    "    Returns\n",
    "    np.uint32\n",
    "        The result of the Choose function as a 32-bit unsigned integer. \n",
    "    \"\"\"\n",
    "\n",
    "    # Convert all inputs to 32-bit unsigned integers.\n",
    "    # This is important for correct bitwise operations and \n",
    "    # ensures that all operations behave like they would in hardware\n",
    "    x = np.uint32(x)\n",
    "    y = np.uint32(y)\n",
    "    z = np.uint32(z)\n",
    "\n",
    "    # Symbols:\n",
    "    # &  bitwise AND \n",
    "    # ~ means bitwise NOT \n",
    "    # ^ means bitwise XOR (exclusive OR) \n",
    "\n",
    "    # np.uint32 ensures the result is a 32-bit unsigned integer \n",
    "    # because python handles integers as unlimited size by default.\n",
    "    # Without np.uint32, the result could be a larger integer than intended.\n",
    "    # SHA-1 algorithm requires 32-bit unsigned integers for its operations.\n",
    "    \n",
    "    # Return the result of the Choose function operation.\n",
    "    return np.uint32((x & y) ^ (~x & z))"
   ]
  },
  {
   "cell_type": "markdown",
   "id": "6238aa2e",
   "metadata": {},
   "source": [
    "**Example tests:** Looks at x \n",
    "\n",
    "- if the bit in x is 1, the result bit is copied from the corresponding bit in y \n",
    "    \n",
    "- if the bit in x is 0, the result bit is copied from the corresponding bit in z"
   ]
  },
  {
   "cell_type": "code",
   "execution_count": 99,
   "id": "6736bf1b",
   "metadata": {},
   "outputs": [
    {
     "name": "stdout",
     "output_type": "stream",
     "text": [
      "Ch(0xFFFFFFFF, 0x12345678, 0x9ABCDEF0) = Hex: 0x12345678 or Decimal: 305419896\n",
      "Ch(0x00000000, 0x12345678, 0x9ABCDEF0) = Hex: 0x9abcdef0 or Decimal: 2596069104\n",
      "Ch(0xF0F0F0F0, 0xAAAAAAAA, 0x55555555) = Hex: 0xa5a5a5a5 or Decimal: 2779096485\n"
     ]
    }
   ],
   "source": [
    "print(\"Ch(0xFFFFFFFF, 0x12345678, 0x9ABCDEF0) = Hex:\",\n",
    "      hex(Ch(0xFFFFFFFF, 0x12345678, 0x9ABCDEF0)),\n",
    "      \"or Decimal:\", Ch(0xFFFFFFFF, 0x12345678, 0x9ABCDEF0))\n",
    "\n",
    "print(\"Ch(0x00000000, 0x12345678, 0x9ABCDEF0) = Hex:\",\n",
    "      hex(Ch(0x00000000, 0x12345678, 0x9ABCDEF0)),\n",
    "      \"or Decimal:\", Ch(0x00000000, 0x12345678, 0x9ABCDEF0))\n",
    "\n",
    "print(\"Ch(0xF0F0F0F0, 0xAAAAAAAA, 0x55555555) = Hex:\",\n",
    "      hex(Ch(0xF0F0F0F0, 0xAAAAAAAA, 0x55555555)),\n",
    "      \"or Decimal:\", Ch(0xF0F0F0F0, 0xAAAAAAAA, 0x55555555))"
   ]
  },
  {
   "cell_type": "markdown",
   "id": "45660ddc",
   "metadata": {},
   "source": [
    "### Function 3: Maj(x, y, z)\n",
    "\n",
    "The Majority function returns the majority bit among x, y and z for each bit position.\n",
    "\n",
    "It acts like a bitwise voting system:\n",
    "- If at least two of the bits are 1, the result bit is 1.\n",
    "- Otherwise, the result bit is 0.\n",
    "\n",
    "This operation is part of the SHA family of cryptographic hash functions and helps ensure diffusion by combining bits from multiple variables.\n",
    "\n",
    "Formula: Secure Hash Standard: **Maj(x, y, z)=(x ∧ y) ⊕ (x ∧ z) ⊕ (y ∧ z)**  and in \n",
    "Python: **Maj(x, y, z) = (x & y) ^ (x & z) ^ (y & z)**"
   ]
  },
  {
   "cell_type": "code",
   "execution_count": 100,
   "id": "50dd657f",
   "metadata": {},
   "outputs": [],
   "source": [
    "def Maj(x, y, z):\n",
    "    \"\"\"\n",
    "    Maj(x, y, z)\n",
    "    \n",
    "    The Majority function from the Secure Hash Standard.\n",
    "\n",
    "    For each bit position:    \n",
    "        - If the majority of the bits in x, y, and z are 1, the result is 1\n",
    "        - If the majority of the bits in x, y, and z are 0, the result is 0     \n",
    "        \n",
    "    Parameters\n",
    "    x, y, z : int\n",
    "\n",
    "        Three 32-bit unsigned integers.\n",
    "    Returns\n",
    "    np.uint32\n",
    "        The result of the Majority function as a 32-bit unsigned integer.\n",
    "    \"\"\"\n",
    "\n",
    "    # Convert all inputs to 32-bit unsigned integers.\n",
    "    # This is important for correct bitwise operations and ensures that \n",
    "    # all operations behave like they would in hardware\n",
    "    x = np.uint32(x)\n",
    "    y = np.uint32(y)\n",
    "    z = np.uint32(z)\n",
    "\n",
    "    # The symbol & means bitwise AND in python.\n",
    "    # The symbol | means bitwise OR in python.\n",
    "    # np.uint32 ensures the result is a 32-bit unsigned integer because \n",
    "    # python handles integers as unlimited size by default.\n",
    "    # Without np.uint32, the result could be a larger integer than intended.\n",
    "    # SHA-1 algorithm requires 32-bit unsigned integers for its operations.\n",
    "    # Return the result of the Majority function operation.\n",
    "    return np.uint32((x & y) | (x & z) | (y & z))"
   ]
  },
  {
   "cell_type": "markdown",
   "id": "c8bd74c6",
   "metadata": {},
   "source": [
    "**Example tests:**  Looks at x,y and z together for each bit position.\n",
    "\n",
    "- If at least two bits among x,y and z are 1 -> the result bit is 1\n",
    "- If fewer than two bits are 1 -> the result bit is 0\n",
    "\n",
    "This means the function returns the majority bit at each position. "
   ]
  },
  {
   "cell_type": "code",
   "execution_count": 101,
   "id": "c5b9f006",
   "metadata": {},
   "outputs": [
    {
     "name": "stdout",
     "output_type": "stream",
     "text": [
      "Maj(0xFFFFFFFF, 0x12345678, 0x9ABCDEF0) = Hex: 0x9abcdef8 or Decimal: 2596069112\n",
      "Maj(0x00000000, 0x12345678, 0x9ABCDEF0) = Hex: 0x12345670 or Decimal: 305419888\n",
      "Maj(0xF0F0F0F0, 0xAAAAAAAA, 0x55555555) = Hex: 0xf0f0f0f0 or Decimal: 4042322160\n"
     ]
    }
   ],
   "source": [
    "print(\"Maj(0xFFFFFFFF, 0x12345678, 0x9ABCDEF0) = Hex:\",\n",
    "      hex(Maj(0xFFFFFFFF, 0x12345678, 0x9ABCDEF0)),\n",
    "      \"or Decimal:\", Maj(0xFFFFFFFF, 0x12345678, 0x9ABCDEF0))\n",
    "\n",
    "print(\"Maj(0x00000000, 0x12345678, 0x9ABCDEF0) = Hex:\",\n",
    "      hex(Maj(0x00000000, 0x12345678, 0x9ABCDEF0)),\n",
    "      \"or Decimal:\", Maj(0x00000000, 0x12345678, 0x9ABCDEF0))\n",
    "\n",
    "print(\"Maj(0xF0F0F0F0, 0xAAAAAAAA, 0x55555555) = Hex:\",\n",
    "      hex(Maj(0xF0F0F0F0, 0xAAAAAAAA, 0x55555555)),\n",
    "      \"or Decimal:\", Maj(0xF0F0F0F0, 0xAAAAAAAA, 0x55555555))"
   ]
  },
  {
   "cell_type": "markdown",
   "id": "70b7953a",
   "metadata": {},
   "source": [
    "### Function 4: Sigma0(x) \n",
    "\n",
    "The Sigma0 function performs three bitwise right rotations on the input x by 2, 13 and 22 bits, and combines them using XOR.\n",
    "\n",
    "This helps mix the bits of x to increase diffusion in the SHA-256 hash algorithm. This means that a small change in the input produces a large, widespread change in the output. \n",
    "\n",
    "Formula: Secure Hash Standard: **Σ₀(x) = ROTR²(x) ⊕ ROTR¹³(x) ⊕ ROTR²²(x)**  and in \n",
    "Python: **Sigma0(x) = ROTR(x, 2) ^ ROTR(x, 13) ^ ROTR(x, 22)**"
   ]
  },
  {
   "cell_type": "code",
   "execution_count": 102,
   "id": "63824e0f",
   "metadata": {},
   "outputs": [],
   "source": [
    "def Sigma0(x):\n",
    "    \"\"\"\n",
    "    Sigma0(x)\n",
    "    \n",
    "    The Sigma0 function from the Secure Hash Standard.\n",
    "\n",
    "    Performs a series of bitwise rotations and XOR operations on a \n",
    "    32-bit unsigned integer.\n",
    "\n",
    "    Parameters\n",
    "    x : int\n",
    "        A 32-bit unsigned integer.\n",
    "\n",
    "    Returns\n",
    "    np.uint32\n",
    "        The result of the Sigma0 function as a 32-bit unsigned integer.\n",
    "    \"\"\"\n",
    "\n",
    "    # Convert input to 32-bit unsigned integer.\n",
    "    # This is important for correct bitwise operations and \n",
    "    # ensures that all operations behave like they would in hardware\n",
    "    x = np.uint32(x)\n",
    "\n",
    "    # Perform the bitwise rotations and XOR operations.\n",
    "    # np.uint32 ensures the result is a 32-bit unsigned integer \n",
    "    # because python handles integers as unlimited size by default.\n",
    "    # Without np.uint32, the result could be a larger integer than intended.\n",
    "    # SHA-256 algorithm requires 32-bit unsigned integers for its operations.\n",
    "    \n",
    "    return np.uint32(\n",
    "        ((x >> 2) | (x << (32 - 2))) ^\n",
    "        ((x >> 13) | (x << (32 - 13))) ^\n",
    "        ((x >> 22) | (x << (32 - 22)))\n",
    "    )       "
   ]
  },
  {
   "cell_type": "markdown",
   "id": "21eb4e63",
   "metadata": {},
   "source": [
    "**Example Tests:**  Looks at x\n",
    "- The bits of x are rotated by 2, 13 and 22 positions.\n",
    "- Each rotated version is combined with XOR.\n",
    "- The result is a scrambled 32-bit number that spreads the bit information from the original x."
   ]
  },
  {
   "cell_type": "code",
   "execution_count": 103,
   "id": "0a11c10a",
   "metadata": {},
   "outputs": [
    {
     "name": "stdout",
     "output_type": "stream",
     "text": [
      "Sigma0(0x12345678) = Hex: 0x66146474 or Decimal: 1712612468\n",
      "Sigma0(0xFFFFFFFF) = Hex: 0xffffffff or Decimal: 4294967295\n",
      "Sigma0(0x00000000) = Hex: 0x0 or Decimal: 0\n"
     ]
    }
   ],
   "source": [
    "print(\"Sigma0(0x12345678) = Hex:\", \n",
    "      hex(Sigma0(0x12345678)), \n",
    "      \"or Decimal:\", Sigma0(0x12345678))    \n",
    "\n",
    "print(\"Sigma0(0xFFFFFFFF) = Hex:\", \n",
    "      hex(Sigma0(0xFFFFFFFF)), \n",
    "      \"or Decimal:\", Sigma0(0xFFFFFFFF))    \n",
    "\n",
    "print(\"Sigma0(0x00000000) = Hex:\", \n",
    "      hex(Sigma0(0x00000000)), \n",
    "      \"or Decimal:\", Sigma0(0x00000000))    "
   ]
  },
  {
   "cell_type": "markdown",
   "id": "d9d99cc9",
   "metadata": {},
   "source": [
    "### Function 5: Sigma1(x)\n",
    "\n",
    "The Sigma1 function performs three bitwise right rotations on the input x by 6, 11 and 25 bits, and combines them using XOR.\n",
    "\n",
    "This helps further mix the bits of x to increase diffusion in the SHA-256 hash algorith and ensuring that small input changes cause large changes in the hash output. \n",
    "\n",
    "Formula: Secure Hash Standard: **Σ₁(x) = ROTR⁶(x) ⊕ ROTR¹¹(x) ⊕ ROTR²⁵(x)**  and in \n",
    "Python: **Sigma1(x) = ROTR(x, 6) ^ ROTR(x, 11) ^ ROTR(x, 25)**"
   ]
  },
  {
   "cell_type": "code",
   "execution_count": 104,
   "id": "e63d5fc4",
   "metadata": {},
   "outputs": [],
   "source": [
    "def Sigma1(x):\n",
    "    \"\"\"\n",
    "    Sigma1(x)\n",
    "    \n",
    "    The Sigma1 function from the Secure Hash Standard.\n",
    "\n",
    "    Performs a series of bitwise rotations and XOR operations on a \n",
    "    32-bit unsigned integer.\n",
    "\n",
    "    Parameters\n",
    "    x : int\n",
    "        A 32-bit unsigned integer.\n",
    "\n",
    "    Returns\n",
    "    np.uint32\n",
    "        The result of the Sigma1 function as a 32-bit unsigned integer.\n",
    "    \"\"\"\n",
    "\n",
    "    # Convert input to 32-bit unsigned integer.\n",
    "    # This is important for correct bitwise operations and \n",
    "    # ensures that all operations behave like they would in hardware\n",
    "    x = np.uint32(x)\n",
    "\n",
    "    # Perform the bitwise rotations and XOR operations.\n",
    "    # np.uint32 ensures the result is a 32-bit unsigned integer \n",
    "    # because python handles integers as unlimited size by default.\n",
    "    # Without np.uint32, the result could be a larger integer than intended.\n",
    "    # SHA-256 algorithm requires 32-bit unsigned integers for its operations.\n",
    "    \n",
    "    return np.uint32(\n",
    "        ((x >> 6) | (x << (32 - 6))) ^\n",
    "        ((x >> 11) | (x << (32 - 11))) ^\n",
    "        ((x >> 25) | (x << (32 - 25)))\n",
    "    )"
   ]
  },
  {
   "cell_type": "markdown",
   "id": "440f0e3b",
   "metadata": {},
   "source": [
    "**Example Tests:**  Looks at x\n",
    "- The bits of x are rotated by 6, 11 and 25 positions.\n",
    "- Each rotated version is combined with XOR.\n",
    "- The result is a scrambled 32-bit number that spreads the bit information from the original x."
   ]
  },
  {
   "cell_type": "code",
   "execution_count": 105,
   "id": "dad95689",
   "metadata": {},
   "outputs": [
    {
     "name": "stdout",
     "output_type": "stream",
     "text": [
      "Sigma1(0x12345678) = Hex: 0x3561abda or Decimal: 895593434\n",
      "Sigma1(0x00000000) = Hex: 0x0 or Decimal: 0\n",
      "Sigma1(0xFFFFFFFF) = Hex: 0xffffffff or Decimal: 4294967295\n"
     ]
    }
   ],
   "source": [
    "print(\"Sigma1(0x12345678) = Hex:\", \n",
    "      hex(Sigma1(0x12345678)), \n",
    "      \"or Decimal:\", Sigma1(0x12345678))\n",
    "\n",
    "print(\"Sigma1(0x00000000) = Hex:\", \n",
    "      hex(Sigma1(0x00000000)),\n",
    "      \"or Decimal:\", Sigma1(0x00000000))\n",
    "\n",
    "print(\"Sigma1(0xFFFFFFFF) = Hex:\", \n",
    "      hex(Sigma1(0xFFFFFFFF)),\n",
    "      \"or Decimal:\", Sigma1(0xFFFFFFFF))    "
   ]
  },
  {
   "cell_type": "markdown",
   "id": "1d4492b3",
   "metadata": {},
   "source": [
    "### Function 6: sigma0(x)\n",
    "\n",
    "The sigma0 function performs two bitwise right rotations and one logical right shift on the input x by 7, 18 and 3 bits, and combines them using XOR.\n",
    "\n",
    "This function is used during the message schedule step of the SHA-256 algorithm to expand and mix the message words before compression.\n",
    "\n",
    "Formula: Secure Hash Standard: **σ₀(x) = ROTR⁷(x) ⊕ ROTR¹⁸(x) ⊕ SHR³(x)**  and in \n",
    "Python: **sigma0(x) = ROTR(x, 7) ^ ROTR(x, 18) ^ (x >> 3))**"
   ]
  },
  {
   "cell_type": "code",
   "execution_count": 106,
   "id": "7f1bc8e6",
   "metadata": {},
   "outputs": [],
   "source": [
    "def sigma0(x):\n",
    "    \"\"\"\n",
    "    sigma0(x)\n",
    "    \n",
    "    The sigma0 function from the Secure Hash Standard.\n",
    "\n",
    "    Performs a series of bitwise rotations, shifts, and XOR operations \n",
    "    on a 32-bit unsigned integer.\n",
    "\n",
    "    Parameters\n",
    "    x : int\n",
    "        A 32-bit unsigned integer.\n",
    "\n",
    "    Returns\n",
    "    np.uint32\n",
    "        The result of the sigma0 function as a 32-bit unsigned integer.\n",
    "    \"\"\"\n",
    "\n",
    "    # Convert input to 32-bit unsigned integer.\n",
    "    # This is important for correct bitwise operations and \n",
    "    # ensures that all operations behave like they would in hardware\n",
    "    x = np.uint32(x)\n",
    "\n",
    "    # Perform the bitwise rotations, shifts, and XOR operations.\n",
    "    # np.uint32 ensures the result is a 32-bit unsigned integer \n",
    "    # because python handles integers as unlimited size by default.\n",
    "    # Without np.uint32, the result could be a larger integer than intended.\n",
    "    # SHA-256 algorithm requires 32-bit unsigned integers for its operations.\n",
    "    \n",
    "    return np.uint32(\n",
    "        ((x >> 7) | (x << (32 - 7))) ^\n",
    "        ((x >> 18) | (x << (32 - 18))) ^\n",
    "        (x >> 3)\n",
    "    )   "
   ]
  },
  {
   "cell_type": "markdown",
   "id": "ab627dcf",
   "metadata": {},
   "source": [
    "**Example Tests:** Looks at x\n",
    "\n",
    "- The bits of x are rotated right by 7 and 18, and shifted right by 3.\n",
    "- These three versions are combined using XOR.\n",
    "- The result is a scrambled 32-bit number that helps expand the message words and improve diffusion before the main compression step."
   ]
  },
  {
   "cell_type": "code",
   "execution_count": 107,
   "id": "42a248ed",
   "metadata": {},
   "outputs": [
    {
     "name": "stdout",
     "output_type": "stream",
     "text": [
      "sigma0(0x12345678) = Hex: 0xe7fce6ee or Decimal: 3892111086\n",
      "sigma0(0xFFFFFFFF) = Hex: 0x1fffffff or Decimal: 536870911\n",
      "sigma0(0x12345678) = Hex: 0xe7fce6ee or Decimal: 3892111086\n"
     ]
    }
   ],
   "source": [
    "print(\"sigma0(0x12345678) = Hex:\", \n",
    "      hex(sigma0(0x12345678)), \n",
    "      \"or Decimal:\", sigma0(0x12345678))    \n",
    "\n",
    "print(\"sigma0(0xFFFFFFFF) = Hex:\", \n",
    "      hex(sigma0(0xFFFFFFFF)), \n",
    "      \"or Decimal:\", sigma0(0xFFFFFFFF))        \n",
    "\n",
    "print(\"sigma0(0x12345678) = Hex:\", \n",
    "      hex(sigma0(0x12345678)), \n",
    "      \"or Decimal:\", sigma0(0x12345678))"
   ]
  },
  {
   "cell_type": "markdown",
   "id": "c4d7bce6",
   "metadata": {},
   "source": [
    "### Function 7: sigma1(x)\n",
    "\n",
    "The Sigma1 function performs two bitwise right rotations and one logical right shift on the input x by 17, 19 and 10 bits, and combines them using XOR.\n",
    "\n",
    "This function is used during the message schedule step of the SHA-256 algorithm to expand and mix the message words before the main compression phase.\n",
    "\n",
    "Formula: Secure Hash Standard: **σ₁(x) = ROTR¹⁷(x) ⊕ ROTR¹⁹(x) ⊕ SHR¹⁰(x)**  and in \n",
    "Python: **sigma1(x) = ROTR(x, 17) ^ ROTR(x, 19) ^ (x >> 10)**"
   ]
  },
  {
   "cell_type": "code",
   "execution_count": 108,
   "id": "16d79e40",
   "metadata": {},
   "outputs": [],
   "source": [
    "def sigma1(x):\n",
    "    \"\"\"\n",
    "    sigma1(x)\n",
    "    \n",
    "    The sigma1 function from the Secure Hash Standard.\n",
    "\n",
    "    Performs a series of bitwise rotations and right shifts on a \n",
    "    32-bit unsigned integer.\n",
    "\n",
    "    Parameters\n",
    "    x : int\n",
    "        A 32-bit unsigned integer.\n",
    "\n",
    "    Returns\n",
    "    np.uint32\n",
    "        The result of the sigma1 function as a 32-bit unsigned integer.\n",
    "    \"\"\"\n",
    "\n",
    "    # Convert input to 32-bit unsigned integer.\n",
    "    # This is important for correct bitwise operations and \n",
    "    # ensures that all operations behave like they would in hardware\n",
    "    x = np.uint32(x)\n",
    "\n",
    "    # Perform the bitwise rotations and right shift operations.\n",
    "    # np.uint32 ensures the result is a 32-bit unsigned integer \n",
    "    # because python handles integers as unlimited size by default.\n",
    "    # Without np.uint32, the result could be a larger integer than intended.\n",
    "    # SHA-256 algorithm requires 32-bit unsigned integers for its operations.\n",
    "    \n",
    "    return np.uint32(\n",
    "        ((x >> 17) | (x << (32 - 17))) ^\n",
    "        ((x >> 19) | (x << (32 - 19))) ^\n",
    "        (x >> 10)\n",
    "    )"
   ]
  },
  {
   "cell_type": "markdown",
   "id": "ba3d6fc2",
   "metadata": {},
   "source": [
    "**Example Tests:** Looks at x\n",
    "- The bits of x are rotated right by 17 and 19, and shifted right by 10.\n",
    "- These three versions are combined using XOR.\n",
    "- The result is a scrambled 32-bit number that helps expand the message words and improve diffusion before the main compression step."
   ]
  },
  {
   "cell_type": "code",
   "execution_count": 109,
   "id": "4f608eb0",
   "metadata": {},
   "outputs": [
    {
     "name": "stdout",
     "output_type": "stream",
     "text": [
      "sigma1(0x12345678) = Hex: 0xa1f78649 or Decimal: 2717353545\n",
      "sigma1(0xFFFFFFFF) = Hex: 0x3fffff or Decimal: 4194303\n",
      "sigma1(0x00000000) = Hex: 0x0 or Decimal: 0\n"
     ]
    }
   ],
   "source": [
    "print(\"sigma1(0x12345678) = Hex:\", \n",
    "      hex(sigma1(0x12345678)), \n",
    "      \"or Decimal:\", sigma1(0x12345678))\n",
    "\n",
    "print(\"sigma1(0xFFFFFFFF) = Hex:\", \n",
    "      hex(sigma1(0xFFFFFFFF)),\n",
    "      \"or Decimal:\", sigma1(0xFFFFFFFF))    \n",
    "\n",
    "print(\"sigma1(0x00000000) = Hex:\", \n",
    "      hex(sigma1(0x00000000)),\n",
    "      \"or Decimal:\", sigma1(0x00000000))    "
   ]
  },
  {
   "cell_type": "markdown",
   "id": "f851cac5",
   "metadata": {},
   "source": [
    "## Problem 2: Fractional Parts of Cube Roots\n",
    "Use numpy to calculate the constants listed at the bottom of page 11 of the Secure Hash Standard, following the steps below. These are the first 32 bits of the fractional parts of the cube roots of the first 64 prime numbers.\n",
    "\n",
    "Write a function called primes(n) that generates the first n prime numbers.\n",
    "\n",
    "Use the function to calculate the cube root of the first 64 primes.\n",
    "\n",
    "For each cube root, extract the first thirty-two bits of the fractional part.\n",
    "\n",
    "Display the result in hexadecimal.\n",
    "\n",
    "Test the results against what is in the Secure Hash Standard."
   ]
  },
  {
   "cell_type": "code",
   "execution_count": null,
   "id": "a2ea5f97",
   "metadata": {},
   "outputs": [],
   "source": []
  },
  {
   "cell_type": "markdown",
   "id": "2921fb57",
   "metadata": {},
   "source": [
    "## Problem 3: Padding\n",
    "Write a generator function block_parse(msg) that processes messages according to section 5.1.1 and 5.2.1 of the Secure Hash Standard. The function should accept a bytes object called msg. At each iteration, it should yield the next 512-bit block of msg as a bytes object. Ensure that the final block (or final two blocks) include the required padding of msg as specified in the standard. Test the generator with messages of different lengths to confirm proper padding and block output."
   ]
  },
  {
   "cell_type": "code",
   "execution_count": null,
   "id": "50cddfbc",
   "metadata": {},
   "outputs": [],
   "source": []
  },
  {
   "cell_type": "markdown",
   "id": "b237edc5",
   "metadata": {},
   "source": [
    "## Problem 4: Hashes\n",
    "Write a function hash(current, block) that calculates the next hash value given the current hash value and the next message block according to section 6.2.2 SHA-256 Hash Computation on page 22 of the Secure Hash Standard."
   ]
  },
  {
   "cell_type": "code",
   "execution_count": null,
   "id": "a3c3f8ca",
   "metadata": {},
   "outputs": [],
   "source": []
  },
  {
   "cell_type": "markdown",
   "id": "4ccc8a9f",
   "metadata": {},
   "source": [
    "## Problem 5: Passwords\n",
    "The following are the SHA-256 hashes of three common passwords that have been hashed using one pass of the SHA-256 algorithm. As strings, they were encoded using UTF-8. Determine the passwords and explain how you found them. Suggest ways in which the hashing of passwords could be improved to prevent the kind of attack you performed to find the passwords.\n",
    "\n",
    "    1. 5e884898da28047151d0e56f8dc6292773603d0d6aabbdd62a11ef721d1542d8\n",
    "\n",
    "    2. 873ac9ffea4dd04fa719e8920cd6938f0c23cd678af330939cff53c3d2855f34\n",
    "    \n",
    "    3. b03ddf3ca2e714a6548e7495e2a03f5e824eaac9837cd7f159c67b90fb4b7342"
   ]
  },
  {
   "cell_type": "code",
   "execution_count": null,
   "id": "95b086d7",
   "metadata": {},
   "outputs": [],
   "source": []
  },
  {
   "cell_type": "markdown",
   "id": "a247ddef",
   "metadata": {},
   "source": [
    "## End"
   ]
  }
 ],
 "metadata": {
  "kernelspec": {
   "display_name": "Python 3",
   "language": "python",
   "name": "python3"
  },
  "language_info": {
   "codemirror_mode": {
    "name": "ipython",
    "version": 3
   },
   "file_extension": ".py",
   "mimetype": "text/x-python",
   "name": "python",
   "nbconvert_exporter": "python",
   "pygments_lexer": "ipython3",
   "version": "3.12.1"
  }
 },
 "nbformat": 4,
 "nbformat_minor": 5
}
